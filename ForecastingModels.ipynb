{
 "cells": [
  {
   "cell_type": "markdown",
   "metadata": {},
   "source": [
    "# Forecasting\n",
    "\n",
    "Using the data collected, we will see if we can fit some reasonable forecasting models and see how they compare to more standard methods like Arp's"
   ]
  },
  {
   "cell_type": "code",
   "execution_count": null,
   "metadata": {},
   "outputs": [],
   "source": [
    "from darts.models import RNNModel\n",
    "\n",
    "model = RNNModel()\n",
    "\n",
    "import numpy as np\n",
    "import pandas as pd\n",
    "import pyaf.ForecastEngine as autof"
   ]
  }
 ],
 "metadata": {
  "interpreter": {
   "hash": "fbc05aefc5138339e86326c0933e0017460d8d382a1640adfde37b07fe7115b6"
  },
  "kernelspec": {
   "display_name": "Python 3.9.5 64-bit",
   "language": "python",
   "name": "python3"
  },
  "language_info": {
   "name": "python",
   "version": "3.9.5"
  },
  "orig_nbformat": 4
 },
 "nbformat": 4,
 "nbformat_minor": 2
}

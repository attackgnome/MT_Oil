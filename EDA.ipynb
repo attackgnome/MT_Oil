{
 "cells": [
  {
   "cell_type": "markdown",
   "metadata": {},
   "source": [
    "# EDA on Data\n",
    "In this notebook will will take the data that we collected in the `DataCollection` Notebook and perfor analysis."
   ]
  },
  {
   "cell_type": "code",
   "execution_count": null,
   "metadata": {},
   "outputs": [],
   "source": [
    "FracFocusRegistry_df_MT.columns"
   ]
  },
  {
   "cell_type": "code",
   "execution_count": null,
   "metadata": {},
   "outputs": [],
   "source": [
    "hz_wells_prod['BOE'] = hz_wells_prod['BBLS_OIL_COND'] + hz_wells_prod['MCF_GAS']/5.8 #get total bbls of oil equivalent\n",
    "\n",
    "hz_wells_prod['5yr_BOE'] = hz_wells_prod.groupby('API_WELLNO')['BOE'].transform(lambda x: x.head(60).sum())\n",
    "hz_wells_prod['5yr_days'] = hz_wells_prod.groupby('API_WELLNO')['DAYS_PROD'].transform(lambda x: x.head(60).sum())\n",
    "hz_wells_prod['BOE_day'] = hz_wells_prod['5yr_BOE'] /hz_wells_prod['5yr_days']\n",
    "#hz_wells_prod_summary = hz_wells_prod[hz_wells_prod['5yr_days']>900]\n",
    "hz_wells_prod_summary = hz_wells_prod[['API_WELLNO', 'BOE_day', '5yr_days', '5yr_BOE']].drop_duplicates()"
   ]
  },
  {
   "cell_type": "markdown",
   "metadata": {},
   "source": [
    "import seaborn as sns\n",
    "sns.set_theme(style=\"whitegrid\")\n",
    "ax = sns.countplot(x=\"CASNumber\", data=FracFocusRegistry_df_MT,\n",
    "              order=FracFocusRegistry_df_MT.CASNumber.value_counts().iloc[:10].index)\n",
    "ax.tick_params(axis='x', rotation=90)"
   ]
  },
  {
   "cell_type": "code",
   "execution_count": null,
   "metadata": {},
   "outputs": [],
   "source": [
    "There are a lot of material components associated with hydraulic fracuring reports"
   ]
  },
  {
   "cell_type": "markdown",
   "metadata": {},
   "source": [
    "import seaborn as sns\n",
    "sns.set_theme(style=\"whitegrid\")\n",
    "ax = sns.countplot(x=\"Purpose\", data=FracFocusRegistry_df_MT,\n",
    "              order=FracFocusRegistry_df_MT.Purpose.value_counts().iloc[:5].index)\n",
    "ax.tick_params(axis='x', rotation=90)"
   ]
  },
  {
   "cell_type": "code",
   "execution_count": null,
   "metadata": {},
   "outputs": [],
   "source": [
    "sns.histplot(data = FracFocusRegistry_df_MT\n",
    "            ,x = 'PercentHFJob'\n",
    "            ,color = 'navy'\n",
    "            ,alpha = 1\n",
    "            ,binwidth = 1\n",
    "            )"
   ]
  },
  {
   "cell_type": "markdown",
   "metadata": {},
   "source": [
    "Let's start investigating if any of the material components being pumped into these wells have any correlation with the productivity of the wells. \n",
    "\n",
    "As a benchmark for productivity, we are going to take the cumulative BOE produced in the first 5 years of a wells life and divide that by the number of producing days. This will help account for differences in how wells were produced and the number of days the wells were offline. We also want to remove wells with low number of producing days in this period ( less than 900 days or 50% of time)"
   ]
  },
  {
   "cell_type": "markdown",
   "metadata": {},
   "source": [
    "sns.histplot(data = hz_wells_prod_summary\n",
    "            ,x = '5yr_days'\n",
    "            ,color = 'navy'\n",
    "            ,alpha = 1\n",
    "            ,binwidth = 1\n",
    "            )"
   ]
  },
  {
   "cell_type": "code",
   "execution_count": null,
   "metadata": {},
   "outputs": [],
   "source": [
    "sns.histplot(data = hz_wells_prod_summary\n",
    "            ,x = 'BOE_day'\n",
    "            ,color = 'navy'\n",
    "            ,alpha = 1\n",
    "            ,binwidth = 1\n",
    "            )"
   ]
  }
 ],
 "metadata": {
  "interpreter": {
   "hash": "fbc05aefc5138339e86326c0933e0017460d8d382a1640adfde37b07fe7115b6"
  },
  "kernelspec": {
   "display_name": "Python 3.9.5 64-bit",
   "language": "python",
   "name": "python3"
  },
  "language_info": {
   "name": "python",
   "version": "3.9.5"
  },
  "orig_nbformat": 4
 },
 "nbformat": 4,
 "nbformat_minor": 2
}
